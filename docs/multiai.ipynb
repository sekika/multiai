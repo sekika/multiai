{
  "cells": [
    {
      "cell_type": "markdown",
      "metadata": {
        "id": "9Hyk2bmlO_aG"
      },
      "source": [
        "## [multiai](https://sekika.github.io/multiai/) session on Google Colab\n",
        "\n",
        "* To install `multiai`, run the next cell. You may need to resolve a dependency problem, which is an issue with Google Colab and not the responsibility of `multiai`."
      ]
    },
    {
      "cell_type": "code",
      "execution_count": null,
      "metadata": {},
      "outputs": [],
      "source": [
        "!pip install multiai\n",
        "import multiai\n",
        "client = multiai.Prompt()\n",
        "print(f\"multiai {client.version} loaded.\")"
      ]
    },
    {
      "cell_type": "markdown",
      "metadata": {},
      "source": [
        "* Set your API keys, such as OPEN_API_KEY and ANTHROPIC_API_KEY, in your Colab Secrets. Refer to [this guide](https://colab.research.google.com/github/google-gemini/cookbook/blob/main/quickstarts/Authentication.ipynb) for more information.\n",
        "* Run the next cell to read the environmental variables."
      ]
    },
    {
      "cell_type": "code",
      "execution_count": null,
      "metadata": {
        "collapsed": true,
        "id": "ll0Zfoo7Qoyo"
      },
      "outputs": [],
      "source": [
        "import os\n",
        "from google.colab import userdata\n",
        "for env in [\"openai\", \"anthropic\", \"gemini\", \"perplexity\", \"mistral\"]:\n",
        "  env_key = env.upper() + \"_API_KEY\"\n",
        "  try:\n",
        "    os.environ[env_key] = userdata.get(env_key)\n",
        "  except Exception:\n",
        "    pass"
      ]
    },
    {
      "cell_type": "markdown",
      "metadata": {
        "id": "LFXx9LLEkuTA"
      },
      "source": [
        "* Set the models and other parameters by editing the code in the next cell.\n",
        "* Run the next cell to start the interactive session.\n",
        "* Enter 'q' to quit. You can ignore the warning message that appears after quitting."
      ]
    },
    {
      "cell_type": "code",
      "execution_count": null,
      "metadata": {
        "id": "QY2Xu0ErNw9C"
      },
      "outputs": [],
      "source": [
        "client.set_model('openai','gpt-4o') # Set provider and model here\n",
        "client.temperature = 0.5 # Set temperature\n",
        "client.blank_lines = 0 # Change blank_lines parameter here\n",
        "client.interactive()"
      ]
    }
  ],
  "metadata": {
    "colab": {
      "provenance": []
    },
    "kernelspec": {
      "display_name": "Python 3",
      "name": "python3"
    },
    "language_info": {
      "name": "python"
    }
  },
  "nbformat": 4,
  "nbformat_minor": 0
}
